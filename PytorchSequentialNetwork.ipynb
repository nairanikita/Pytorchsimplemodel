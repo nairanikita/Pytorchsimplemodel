{
  "nbformat": 4,
  "nbformat_minor": 0,
  "metadata": {
    "colab": {
      "provenance": []
    },
    "kernelspec": {
      "name": "python3",
      "display_name": "Python 3"
    },
    "language_info": {
      "name": "python"
    }
  },
  "cells": [
    {
      "cell_type": "code",
      "source": [
        "import torch\n",
        "import torch.nn as nn\n",
        "from torch.optim import SGD\n",
        "import numpy as np\n",
        "import matplotlib.pyplot as plt\n"
      ],
      "metadata": {
        "id": "jSaujSdaG2Wx"
      },
      "execution_count": 2,
      "outputs": []
    },
    {
      "cell_type": "code",
      "execution_count": 6,
      "metadata": {
        "id": "gv90t7jAAqEP"
      },
      "outputs": [],
      "source": [
        "R=nn.ReLU()"
      ]
    },
    {
      "cell_type": "code",
      "source": [
        "x=torch.tensor([[1,2,-3],[7,-8,9]])"
      ],
      "metadata": {
        "id": "1UdZb9pZA4yg"
      },
      "execution_count": 14,
      "outputs": []
    },
    {
      "cell_type": "code",
      "source": [
        "x"
      ],
      "metadata": {
        "colab": {
          "base_uri": "https://localhost:8080/"
        },
        "id": "YSDNSaBYA40O",
        "outputId": "027772cc-ac27-47c4-a461-b22e9f233861"
      },
      "execution_count": 15,
      "outputs": [
        {
          "output_type": "execute_result",
          "data": {
            "text/plain": [
              "tensor([[ 1,  2, -3],\n",
              "        [ 7, -8,  9]])"
            ]
          },
          "metadata": {},
          "execution_count": 15
        }
      ]
    },
    {
      "cell_type": "code",
      "source": [
        "y=R(x)"
      ],
      "metadata": {
        "id": "AWQiM9_nA43A"
      },
      "execution_count": 16,
      "outputs": []
    },
    {
      "cell_type": "code",
      "source": [
        "y"
      ],
      "metadata": {
        "colab": {
          "base_uri": "https://localhost:8080/"
        },
        "id": "wpZY-7B8Imo_",
        "outputId": "9a245ed5-9a49-45c4-e7a3-1de297f53722"
      },
      "execution_count": 18,
      "outputs": [
        {
          "output_type": "execute_result",
          "data": {
            "text/plain": [
              "tensor([[1, 2, 0],\n",
              "        [7, 0, 9]])"
            ]
          },
          "metadata": {},
          "execution_count": 18
        }
      ]
    },
    {
      "cell_type": "code",
      "source": [
        "x=torch.linspace(-3,3,100)"
      ],
      "metadata": {
        "id": "riQPAO7SIsvM"
      },
      "execution_count": 19,
      "outputs": []
    },
    {
      "cell_type": "code",
      "source": [
        "y=R(x)"
      ],
      "metadata": {
        "id": "UxevqM1XIsq4"
      },
      "execution_count": 20,
      "outputs": []
    },
    {
      "cell_type": "code",
      "source": [
        "plt.plot(x.numpy(),y.numpy())\n",
        "plt.show()"
      ],
      "metadata": {
        "colab": {
          "base_uri": "https://localhost:8080/",
          "height": 430
        },
        "id": "pLI-WUN6A458",
        "outputId": "ab6bc498-3ba3-47f8-b2c3-c49f99b1d69c"
      },
      "execution_count": 21,
      "outputs": [
        {
          "output_type": "display_data",
          "data": {
            "text/plain": [
              "<Figure size 640x480 with 1 Axes>"
            ],
            "image/png": "[encoded data removed]"
          },
          "metadata": {}
        }
      ]
    },
    {
      "cell_type": "code",
      "source": [
        "class NeuralNetwork(nn.Module):\n",
        "  def __init__(self):\n",
        "    super().__init__()\n",
        "    self.Matrix1=nn.Linear(2,8,bias=False)\n",
        "    self.Matrix2=nn.Linear(8,1,bias=False)\n",
        "    self.R=nn.ReLU()\n",
        "  def forward(self,x):\n",
        "    x=self.R(self.Matrix1(x))\n",
        "    x=self.Matrix2(x)\n",
        "    return x.squeeze()\n",
        ""
      ],
      "metadata": {
        "id": "zLSspSviA4_r"
      },
      "execution_count": 22,
      "outputs": []
    },
    {
      "cell_type": "code",
      "source": [
        "def train_model(x,y,f,epo=50):\n",
        "  opt=SGD(f.parameters(),lr=0.001)\n",
        "  L=nn.MSELoss()\n",
        "\n",
        "  losses=[]\n",
        "  for i in range(epo):\n",
        "    opt.zero_grad()\n",
        "    loss_value=L(f(x),y)\n",
        "    loss_value.backward()\n",
        "    opt.step()\n",
        "    losses.append(loss_value.item())\n",
        "  return f,losses"
      ],
      "metadata": {
        "id": "KwDLXA5aA5Cl"
      },
      "execution_count": 31,
      "outputs": []
    },
    {
      "cell_type": "code",
      "source": [
        "x=torch.tensor([[6,2],[5,2],[1,3],[7,6]]).float()\n",
        "y=torch.tensor([1,5,2,5]).float()\n",
        "f=NeuralNetwork()\n",
        "f,losses=train_model(x,y,f,epo=5000)"
      ],
      "metadata": {
        "id": "_QfkmtFJA5Fa"
      },
      "execution_count": 32,
      "outputs": []
    },
    {
      "cell_type": "code",
      "source": [
        "f(x)"
      ],
      "metadata": {
        "colab": {
          "base_uri": "https://localhost:8080/"
        },
        "id": "kt_Z8gztA5IL",
        "outputId": "6c133732-7a10-4819-98a8-a43ec37a4abf"
      },
      "execution_count": 33,
      "outputs": [
        {
          "output_type": "execute_result",
          "data": {
            "text/plain": [
              "tensor([2.8134, 2.5200, 2.0189, 5.2135], grad_fn=<SqueezeBackward0>)"
            ]
          },
          "metadata": {},
          "execution_count": 33
        }
      ]
    },
    {
      "cell_type": "code",
      "source": [
        "class NeuralNetwork(nn.Module):\n",
        "  def __init__(self):\n",
        "    super().__init__()\n",
        "    self.Matrix1=nn.Linear(2,80,bias=False)\n",
        "    self.Matrix2=nn.Linear(80,1,bias=False)\n",
        "    self.R=nn.ReLU()\n",
        "  def forward(self,x):\n",
        "    x=self.R(self.Matrix1(x))\n",
        "    x=self.Matrix2(x)\n",
        "    return x.squeeze()"
      ],
      "metadata": {
        "id": "VPaeQQj6A5LB"
      },
      "execution_count": 34,
      "outputs": []
    },
    {
      "cell_type": "code",
      "source": [
        "x=torch.tensor([[6,2],[5,2],[1,3],[7,6]]).float()\n",
        "y=torch.tensor([1,5,2,5]).float()\n",
        "f=NeuralNetwork()\n",
        "f,losses=train_model(x,y,f,epo=5000)"
      ],
      "metadata": {
        "id": "grOtfP3mA5OK"
      },
      "execution_count": 35,
      "outputs": []
    },
    {
      "cell_type": "code",
      "source": [
        "f(x)"
      ],
      "metadata": {
        "colab": {
          "base_uri": "https://localhost:8080/"
        },
        "id": "kzGrzlChA5RA",
        "outputId": "8d998016-a21d-45b4-be14-2d5978a10e05"
      },
      "execution_count": 36,
      "outputs": [
        {
          "output_type": "execute_result",
          "data": {
            "text/plain": [
              "tensor([1.9908, 3.6243, 1.9260, 5.1605], grad_fn=<SqueezeBackward0>)"
            ]
          },
          "metadata": {},
          "execution_count": 36
        }
      ]
    },
    {
      "cell_type": "code",
      "source": [
        "class NeuralNetwork(nn.Module):\n",
        "  def __init__(self):\n",
        "    super().__init__()\n",
        "    self.Matrix1=nn.Linear(2,80)\n",
        "    self.Matrix2=nn.Linear(80,1)\n",
        "    self.R=nn.ReLU()\n",
        "  def forward(self,x):\n",
        "    x=self.R(self.Matrix1(x))\n",
        "    x=self.Matrix2(x)\n",
        "    return x.squeeze()"
      ],
      "metadata": {
        "id": "Ed7J9d-iLkV6"
      },
      "execution_count": 37,
      "outputs": []
    },
    {
      "cell_type": "code",
      "source": [
        "x=torch.tensor([[6,2],[5,2],[1,3],[7,6]]).float()\n",
        "y=torch.tensor([1,5,2,5]).float()\n",
        "f=NeuralNetwork()\n",
        "f,losses=train_model(x,y,f,epo=5000)"
      ],
      "metadata": {
        "id": "v3S_Fv64Ltqq"
      },
      "execution_count": 38,
      "outputs": []
    },
    {
      "cell_type": "code",
      "source": [
        "y"
      ],
      "metadata": {
        "colab": {
          "base_uri": "https://localhost:8080/"
        },
        "id": "LJF-2lQNLvTM",
        "outputId": "8dd2e3b5-b7c7-4476-d9c7-b5763ed3b8bd"
      },
      "execution_count": 39,
      "outputs": [
        {
          "output_type": "execute_result",
          "data": {
            "text/plain": [
              "tensor([1., 5., 2., 5.])"
            ]
          },
          "metadata": {},
          "execution_count": 39
        }
      ]
    },
    {
      "cell_type": "code",
      "source": [
        "f(x)"
      ],
      "metadata": {
        "colab": {
          "base_uri": "https://localhost:8080/"
        },
        "id": "rtKdZtfuLwY2",
        "outputId": "afd55ae7-3d68-4aca-e242-01e2da83657d"
      },
      "execution_count": 40,
      "outputs": [
        {
          "output_type": "execute_result",
          "data": {
            "text/plain": [
              "tensor([1.6118, 4.2280, 2.0441, 5.0305], grad_fn=<SqueezeBackward0>)"
            ]
          },
          "metadata": {},
          "execution_count": 40
        }
      ]
    },
    {
      "cell_type": "code",
      "source": [
        "class NeuralNetwork(nn.Module):\n",
        "  def __init__(self):\n",
        "    super().__init__()\n",
        "    self.Matrix1=nn.Linear(2,80)\n",
        "    self.Matrix2=nn.Linear(80,80)\n",
        "    self.Matrix3=nn.Linear(80,1)\n",
        "    self.R=nn.ReLU()\n",
        "  def forward(self,x):\n",
        "    x=self.R(self.Matrix1(x))\n",
        "    x=self.R(self.Matrix2(x))\n",
        "    x=self.Matrix3(x)\n",
        "    return x.squeeze()"
      ],
      "metadata": {
        "id": "XXEWDbfVLxd_"
      },
      "execution_count": 41,
      "outputs": []
    },
    {
      "cell_type": "code",
      "source": [
        "x=torch.tensor([[6,2],[5,2],[1,3],[7,6]]).float()\n",
        "y=torch.tensor([1,5,2,5]).float()\n",
        "f=NeuralNetwork()\n",
        "f,losses=train_model(x,y,f,epo=5000)"
      ],
      "metadata": {
        "id": "JC-qLg8kMGum"
      },
      "execution_count": 42,
      "outputs": []
    },
    {
      "cell_type": "code",
      "source": [
        "f(x)"
      ],
      "metadata": {
        "colab": {
          "base_uri": "https://localhost:8080/"
        },
        "id": "B96YjmjdMIVx",
        "outputId": "2026757b-6ced-46f0-83ac-55caf279e566"
      },
      "execution_count": 43,
      "outputs": [
        {
          "output_type": "execute_result",
          "data": {
            "text/plain": [
              "tensor([1.0302, 4.9799, 2.0040, 5.0081], grad_fn=<SqueezeBackward0>)"
            ]
          },
          "metadata": {},
          "execution_count": 43
        }
      ]
    },
    {
      "cell_type": "code",
      "source": [],
      "metadata": {
        "id": "ffq0vmz6MJ1T"
      },
      "execution_count": null,
      "outputs": []
    }
  ]
}