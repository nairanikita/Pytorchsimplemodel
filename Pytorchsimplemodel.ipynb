{
  "nbformat": 4,
  "nbformat_minor": 0,
  "metadata": {
    "colab": {
      "provenance": []
    },
    "kernelspec": {
      "name": "python3",
      "display_name": "Python 3"
    },
    "language_info": {
      "name": "python"
    }
  },
  "cells": [
    {
      "cell_type": "code",
      "execution_count": 1,
      "metadata": {
        "id": "6FTgjFI1vWyu"
      },
      "outputs": [],
      "source": [
        "import torch\n",
        "import torch.nn as nn\n",
        "from torch.optim import SGD\n",
        "import numpy as np\n",
        "import matplotlib.pyplot as plt"
      ]
    },
    {
      "cell_type": "code",
      "source": [
        "x=torch.tensor([[6,2],[5,2],[1,3],[7,6]]).float()"
      ],
      "metadata": {
        "id": "Nhe0hyEPxGgN"
      },
      "execution_count": 2,
      "outputs": []
    },
    {
      "cell_type": "code",
      "source": [
        "y=torch.tensor([1,5,2,5]).float()"
      ],
      "metadata": {
        "id": "nlm-IdMQI5ty"
      },
      "execution_count": 3,
      "outputs": []
    },
    {
      "cell_type": "code",
      "source": [
        "M1 = nn.Linear(2,8,bias=False)"
      ],
      "metadata": {
        "id": "-LtI3jJ_JBk_"
      },
      "execution_count": 4,
      "outputs": []
    },
    {
      "cell_type": "code",
      "source": [
        "M1(x)"
      ],
      "metadata": {
        "colab": {
          "base_uri": "https://localhost:8080/"
        },
        "id": "hi1scWF8i3GD",
        "outputId": "84035b15-5a62-448e-b169-796ea606f294"
      },
      "execution_count": 5,
      "outputs": [
        {
          "output_type": "execute_result",
          "data": {
            "text/plain": [
              "tensor([[ 4.0041, -0.3190, -1.0266, -4.8569,  2.5347,  1.0956,  4.4227, -2.5389],\n",
              "        [ 3.4781, -0.4867, -0.7807, -4.2314,  2.3295,  0.7057,  3.8958, -2.3319],\n",
              "        [ 1.7980, -1.8202,  0.4274, -2.2816,  2.1602, -1.4764,  2.4186, -2.1523],\n",
              "        [ 6.2261, -2.8019, -0.3747, -7.6905,  5.3465, -1.0029,  7.4719, -5.3396]],\n",
              "       grad_fn=<MmBackward0>)"
            ]
          },
          "metadata": {},
          "execution_count": 5
        }
      ]
    },
    {
      "cell_type": "code",
      "source": [],
      "metadata": {
        "id": "ipBY3ahpgznh"
      },
      "execution_count": 5,
      "outputs": []
    },
    {
      "cell_type": "code",
      "source": [],
      "metadata": {
        "id": "OuEIiGljgzqQ"
      },
      "execution_count": 5,
      "outputs": []
    },
    {
      "cell_type": "code",
      "source": [
        "M2 = nn.Linear(8,1, bias=False)"
      ],
      "metadata": {
        "id": "FrTkyYOli_Ry"
      },
      "execution_count": 6,
      "outputs": []
    },
    {
      "cell_type": "code",
      "source": [
        "M2(M1(x)).squeeze()"
      ],
      "metadata": {
        "colab": {
          "base_uri": "https://localhost:8080/"
        },
        "id": "QEDy1wtYjz-r",
        "outputId": "787cd075-5c44-4f4d-861c-466d86389ecf"
      },
      "execution_count": 15,
      "outputs": [
        {
          "output_type": "execute_result",
          "data": {
            "text/plain": [
              "tensor([ 0.0697,  0.0438, -0.1025, -0.0757], grad_fn=<SqueezeBackward0>)"
            ]
          },
          "metadata": {},
          "execution_count": 15
        }
      ]
    },
    {
      "cell_type": "code",
      "source": [
        "class MyNeuralNetwork(nn.Module):\n",
        "  def __init__(self):\n",
        "    super().__init__()\n",
        "    self.Matrix1=nn.Linear(2,8,bias=False)\n",
        "    self.Matrix2=nn.Linear(8,1,bias=False)\n",
        "  def forward(self,x):\n",
        "    x=self.Matrix1(x)\n",
        "    x=self.Matrix2(x)\n",
        "    return x.squeeze()"
      ],
      "metadata": {
        "id": "v_mCrjifj4mS"
      },
      "execution_count": 8,
      "outputs": []
    },
    {
      "cell_type": "code",
      "source": [
        "f=MyNeuralNetwork()\n"
      ],
      "metadata": {
        "id": "cuFHHIyPk91p"
      },
      "execution_count": 9,
      "outputs": []
    },
    {
      "cell_type": "code",
      "source": [
        "yhat=f(x)\n",
        "yhat"
      ],
      "metadata": {
        "colab": {
          "base_uri": "https://localhost:8080/"
        },
        "id": "FAdJTh6PlR_1",
        "outputId": "8df24736-9bea-49d1-dc72-8ee719b6772b"
      },
      "execution_count": 10,
      "outputs": [
        {
          "output_type": "execute_result",
          "data": {
            "text/plain": [
              "tensor([ 0.6507,  0.4452, -0.6684, -0.3089], grad_fn=<SqueezeBackward0>)"
            ]
          },
          "metadata": {},
          "execution_count": 10
        }
      ]
    },
    {
      "cell_type": "code",
      "source": [
        "L=nn.MSELoss()\n",
        "L(y,yhat)"
      ],
      "metadata": {
        "colab": {
          "base_uri": "https://localhost:8080/"
        },
        "id": "Uy0Lm0eBlbai",
        "outputId": "08863552-1499-4a5b-da63-725a26c98a59"
      },
      "execution_count": 16,
      "outputs": [
        {
          "output_type": "execute_result",
          "data": {
            "text/plain": [
              "tensor(14.0432, grad_fn=<MseLossBackward0>)"
            ]
          },
          "metadata": {},
          "execution_count": 16
        }
      ]
    },
    {
      "cell_type": "code",
      "source": [
        "opt=SGD(f.parameters(),lr=0.001)"
      ],
      "metadata": {
        "id": "3IXKVs2UmHt6"
      },
      "execution_count": 17,
      "outputs": []
    },
    {
      "cell_type": "code",
      "source": [
        "losses=[]\n",
        "for _ in range(50):\n",
        "  opt.zero_grad()\n",
        "  loss_value=L(f(x),y)\n",
        "  loss_value.backward()\n",
        "  opt.step()\n",
        "  # print('loss_value')\n",
        "  print(loss_value.item())\n",
        "  losses.append(loss_value.item())"
      ],
      "metadata": {
        "colab": {
          "base_uri": "https://localhost:8080/"
        },
        "id": "SqbMbo-koa_I",
        "outputId": "c6406eef-84b9-4cbd-de7d-222786cc4701"
      },
      "execution_count": 20,
      "outputs": [
        {
          "output_type": "stream",
          "name": "stdout",
          "text": [
            "2.4028987884521484\n",
            "2.402362823486328\n",
            "2.401836633682251\n",
            "2.401319980621338\n",
            "2.4008119106292725\n",
            "2.400312900543213\n",
            "2.3998234272003174\n",
            "2.3993422985076904\n",
            "2.3988699913024902\n",
            "2.3984055519104004\n",
            "2.39794921875\n",
            "2.397500991821289\n",
            "2.397061586380005\n",
            "2.396630048751831\n",
            "2.396205425262451\n",
            "2.3957879543304443\n",
            "2.395378351211548\n",
            "2.3949766159057617\n",
            "2.3945813179016113\n",
            "2.394192695617676\n",
            "2.3938114643096924\n",
            "2.3934366703033447\n",
            "2.39306902885437\n",
            "2.392707586288452\n",
            "2.392352819442749\n",
            "2.3920040130615234\n",
            "2.3916618824005127\n",
            "2.3913252353668213\n",
            "2.3909945487976074\n",
            "2.390669822692871\n",
            "2.390350818634033\n",
            "2.390038013458252\n",
            "2.3897299766540527\n",
            "2.389427900314331\n",
            "2.3891310691833496\n",
            "2.3888399600982666\n",
            "2.3885531425476074\n",
            "2.3882715702056885\n",
            "2.387995719909668\n",
            "2.387723922729492\n",
            "2.3874571323394775\n",
            "2.387195110321045\n",
            "2.3869380950927734\n",
            "2.3866848945617676\n",
            "2.386436939239502\n",
            "2.386192798614502\n",
            "2.385953664779663\n",
            "2.38571834564209\n",
            "2.3854870796203613\n",
            "2.3852601051330566\n"
          ]
        }
      ]
    },
    {
      "cell_type": "code",
      "source": [
        "plt.plot(losses)\n",
        "plt.ylabel('loss $L(Y,\\hat{y};a)$')\n",
        "plt.xlabel('Epoch')"
      ],
      "metadata": {
        "colab": {
          "base_uri": "https://localhost:8080/",
          "height": 466
        },
        "id": "qvL4olOtoa4R",
        "outputId": "e1e7f8ef-142e-45c4-9885-aa99f88b4621"
      },
      "execution_count": 21,
      "outputs": [
        {
          "output_type": "execute_result",
          "data": {
            "text/plain": [
              "Text(0.5, 0, 'Epoch')"
            ]
          },
          "metadata": {},
          "execution_count": 21
        },
        {
          "output_type": "display_data",
          "data": {
            "text/plain": [
              "<Figure size 640x480 with 1 Axes>"
            ],
            "image/png": "[encoded data removed]"
          },
          "metadata": {}
        }
      ]
    },
    {
      "cell_type": "code",
      "source": [],
      "metadata": {
        "id": "w5E_PxsNp1gp"
      },
      "execution_count": null,
      "outputs": []
    }
  ]
}